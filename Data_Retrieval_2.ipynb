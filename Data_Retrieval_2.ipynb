{
  "nbformat": 4,
  "nbformat_minor": 0,
  "metadata": {
    "colab": {
      "provenance": [],
      "mount_file_id": "1sqFs-N6KOhDvQqoAoCsmZBSLG5vnLiir",
      "authorship_tag": "ABX9TyMfHX+iuv9j9OpOcuoZHB+R",
      "include_colab_link": true
    },
    "kernelspec": {
      "name": "python3",
      "display_name": "Python 3"
    },
    "language_info": {
      "name": "python"
    }
  },
  "cells": [
    {
      "cell_type": "markdown",
      "metadata": {
        "id": "view-in-github",
        "colab_type": "text"
      },
      "source": [
        "<a href=\"https://colab.research.google.com/github/HusamAlzain/Data-retrieval/blob/main/Data_Retrieval_2.ipynb\" target=\"_parent\"><img src=\"https://colab.research.google.com/assets/colab-badge.svg\" alt=\"Open In Colab\"/></a>"
      ]
    },
    {
      "cell_type": "code",
      "execution_count": 20,
      "metadata": {
        "id": "jTUbFP3WcoCW"
      },
      "outputs": [],
      "source": []
    },
    {
      "cell_type": "markdown",
      "source": [
        "### Task: Read the documents from an externa file, and remove stop words, then normalize it."
      ],
      "metadata": {
        "id": "xr-FTtFhH1oY"
      }
    },
    {
      "cell_type": "markdown",
      "source": [
        "we are going to use NLTK for English text"
      ],
      "metadata": {
        "id": "bauzXKSxIraO"
      }
    },
    {
      "cell_type": "code",
      "source": [
        "pip install nltk"
      ],
      "metadata": {
        "id": "TjXJhXMjrh0F",
        "colab": {
          "base_uri": "https://localhost:8080/"
        },
        "outputId": "4cd55546-9967-443a-cbab-912820df6ad0"
      },
      "execution_count": 21,
      "outputs": [
        {
          "output_type": "stream",
          "name": "stdout",
          "text": [
            "Looking in indexes: https://pypi.org/simple, https://us-python.pkg.dev/colab-wheels/public/simple/\n",
            "Requirement already satisfied: nltk in /usr/local/lib/python3.8/dist-packages (3.7)\n",
            "Requirement already satisfied: joblib in /usr/local/lib/python3.8/dist-packages (from nltk) (1.2.0)\n",
            "Requirement already satisfied: regex>=2021.8.3 in /usr/local/lib/python3.8/dist-packages (from nltk) (2022.6.2)\n",
            "Requirement already satisfied: tqdm in /usr/local/lib/python3.8/dist-packages (from nltk) (4.64.1)\n",
            "Requirement already satisfied: click in /usr/local/lib/python3.8/dist-packages (from nltk) (7.1.2)\n"
          ]
        }
      ]
    },
    {
      "cell_type": "code",
      "source": [
        "import nltk\n",
        "import pandas as pd"
      ],
      "metadata": {
        "id": "VAENUcWhNWKb"
      },
      "execution_count": 22,
      "outputs": []
    },
    {
      "cell_type": "code",
      "source": [
        "article_data = pd.read_csv('/content/drive/MyDrive/Other/document.txt', sep='delimiter', header=None)\n",
        "print(article_data)"
      ],
      "metadata": {
        "colab": {
          "base_uri": "https://localhost:8080/"
        },
        "id": "8WvysCzfKOzM",
        "outputId": "f9bfb90a-98b9-4610-c5c2-d9a8427b23c2"
      },
      "execution_count": 23,
      "outputs": [
        {
          "output_type": "stream",
          "name": "stdout",
          "text": [
            "                                                                                                                                                       0\n",
            "0                                                             The earliest known written records of the histoire of China date from as early as 1250 BC,\n",
            "1                                                                    from the Shang dynastie (c. 1600–1046 BCE), during the reign of king Wu Ding,[1][2]\n",
            "2  referred to in the records as the twenty-first King of Shang.[3][4] Ancient historical texts such as the Book of Documents (early chapters, 11th s...\n"
          ]
        },
        {
          "output_type": "stream",
          "name": "stderr",
          "text": [
            "/usr/local/lib/python3.8/dist-packages/pandas/util/_decorators.py:311: ParserWarning: Falling back to the 'python' engine because the 'c' engine does not support regex separators (separators > 1 char and different from '\\s+' are interpreted as regex); you can avoid this warning by specifying engine='python'.\n",
            "  return func(*args, **kwargs)\n"
          ]
        }
      ]
    },
    {
      "cell_type": "code",
      "source": [
        "article_df = pd.DataFrame((article_data))\n",
        "article_df"
      ],
      "metadata": {
        "id": "CkpzWA5oKoWZ",
        "colab": {
          "base_uri": "https://localhost:8080/",
          "height": 143
        },
        "outputId": "34003618-8dbf-4ed4-a710-7baf557230d7"
      },
      "execution_count": 24,
      "outputs": [
        {
          "output_type": "execute_result",
          "data": {
            "text/plain": [
              "                                                                                                                                                       0\n",
              "0                                                             The earliest known written records of the histoire of China date from as early as 1250 BC,\n",
              "1                                                                    from the Shang dynastie (c. 1600–1046 BCE), during the reign of king Wu Ding,[1][2]\n",
              "2  referred to in the records as the twenty-first King of Shang.[3][4] Ancient historical texts such as the Book of Documents (early chapters, 11th s..."
            ],
            "text/html": [
              "\n",
              "  <div id=\"df-80b31cb0-3ce7-4a6a-87e2-bb84da02657b\">\n",
              "    <div class=\"colab-df-container\">\n",
              "      <div>\n",
              "<style scoped>\n",
              "    .dataframe tbody tr th:only-of-type {\n",
              "        vertical-align: middle;\n",
              "    }\n",
              "\n",
              "    .dataframe tbody tr th {\n",
              "        vertical-align: top;\n",
              "    }\n",
              "\n",
              "    .dataframe thead th {\n",
              "        text-align: right;\n",
              "    }\n",
              "</style>\n",
              "<table border=\"1\" class=\"dataframe\">\n",
              "  <thead>\n",
              "    <tr style=\"text-align: right;\">\n",
              "      <th></th>\n",
              "      <th>0</th>\n",
              "    </tr>\n",
              "  </thead>\n",
              "  <tbody>\n",
              "    <tr>\n",
              "      <th>0</th>\n",
              "      <td>The earliest known written records of the histoire of China date from as early as 1250 BC,</td>\n",
              "    </tr>\n",
              "    <tr>\n",
              "      <th>1</th>\n",
              "      <td>from the Shang dynastie (c. 1600–1046 BCE), during the reign of king Wu Ding,[1][2]</td>\n",
              "    </tr>\n",
              "    <tr>\n",
              "      <th>2</th>\n",
              "      <td>referred to in the records as the twenty-first King of Shang.[3][4] Ancient historical texts such as the Book of Documents (early chapters, 11th s...</td>\n",
              "    </tr>\n",
              "  </tbody>\n",
              "</table>\n",
              "</div>\n",
              "      <button class=\"colab-df-convert\" onclick=\"convertToInteractive('df-80b31cb0-3ce7-4a6a-87e2-bb84da02657b')\"\n",
              "              title=\"Convert this dataframe to an interactive table.\"\n",
              "              style=\"display:none;\">\n",
              "        \n",
              "  <svg xmlns=\"http://www.w3.org/2000/svg\" height=\"24px\"viewBox=\"0 0 24 24\"\n",
              "       width=\"24px\">\n",
              "    <path d=\"M0 0h24v24H0V0z\" fill=\"none\"/>\n",
              "    <path d=\"M18.56 5.44l.94 2.06.94-2.06 2.06-.94-2.06-.94-.94-2.06-.94 2.06-2.06.94zm-11 1L8.5 8.5l.94-2.06 2.06-.94-2.06-.94L8.5 2.5l-.94 2.06-2.06.94zm10 10l.94 2.06.94-2.06 2.06-.94-2.06-.94-.94-2.06-.94 2.06-2.06.94z\"/><path d=\"M17.41 7.96l-1.37-1.37c-.4-.4-.92-.59-1.43-.59-.52 0-1.04.2-1.43.59L10.3 9.45l-7.72 7.72c-.78.78-.78 2.05 0 2.83L4 21.41c.39.39.9.59 1.41.59.51 0 1.02-.2 1.41-.59l7.78-7.78 2.81-2.81c.8-.78.8-2.07 0-2.86zM5.41 20L4 18.59l7.72-7.72 1.47 1.35L5.41 20z\"/>\n",
              "  </svg>\n",
              "      </button>\n",
              "      \n",
              "  <style>\n",
              "    .colab-df-container {\n",
              "      display:flex;\n",
              "      flex-wrap:wrap;\n",
              "      gap: 12px;\n",
              "    }\n",
              "\n",
              "    .colab-df-convert {\n",
              "      background-color: #E8F0FE;\n",
              "      border: none;\n",
              "      border-radius: 50%;\n",
              "      cursor: pointer;\n",
              "      display: none;\n",
              "      fill: #1967D2;\n",
              "      height: 32px;\n",
              "      padding: 0 0 0 0;\n",
              "      width: 32px;\n",
              "    }\n",
              "\n",
              "    .colab-df-convert:hover {\n",
              "      background-color: #E2EBFA;\n",
              "      box-shadow: 0px 1px 2px rgba(60, 64, 67, 0.3), 0px 1px 3px 1px rgba(60, 64, 67, 0.15);\n",
              "      fill: #174EA6;\n",
              "    }\n",
              "\n",
              "    [theme=dark] .colab-df-convert {\n",
              "      background-color: #3B4455;\n",
              "      fill: #D2E3FC;\n",
              "    }\n",
              "\n",
              "    [theme=dark] .colab-df-convert:hover {\n",
              "      background-color: #434B5C;\n",
              "      box-shadow: 0px 1px 3px 1px rgba(0, 0, 0, 0.15);\n",
              "      filter: drop-shadow(0px 1px 2px rgba(0, 0, 0, 0.3));\n",
              "      fill: #FFFFFF;\n",
              "    }\n",
              "  </style>\n",
              "\n",
              "      <script>\n",
              "        const buttonEl =\n",
              "          document.querySelector('#df-80b31cb0-3ce7-4a6a-87e2-bb84da02657b button.colab-df-convert');\n",
              "        buttonEl.style.display =\n",
              "          google.colab.kernel.accessAllowed ? 'block' : 'none';\n",
              "\n",
              "        async function convertToInteractive(key) {\n",
              "          const element = document.querySelector('#df-80b31cb0-3ce7-4a6a-87e2-bb84da02657b');\n",
              "          const dataTable =\n",
              "            await google.colab.kernel.invokeFunction('convertToInteractive',\n",
              "                                                     [key], {});\n",
              "          if (!dataTable) return;\n",
              "\n",
              "          const docLinkHtml = 'Like what you see? Visit the ' +\n",
              "            '<a target=\"_blank\" href=https://colab.research.google.com/notebooks/data_table.ipynb>data table notebook</a>'\n",
              "            + ' to learn more about interactive tables.';\n",
              "          element.innerHTML = '';\n",
              "          dataTable['output_type'] = 'display_data';\n",
              "          await google.colab.output.renderOutput(dataTable, element);\n",
              "          const docLink = document.createElement('div');\n",
              "          docLink.innerHTML = docLinkHtml;\n",
              "          element.appendChild(docLink);\n",
              "        }\n",
              "      </script>\n",
              "    </div>\n",
              "  </div>\n",
              "  "
            ]
          },
          "metadata": {},
          "execution_count": 24
        }
      ]
    },
    {
      "cell_type": "code",
      "source": [
        "article_df.columns"
      ],
      "metadata": {
        "id": "vXAH9Dk6WsJ9",
        "colab": {
          "base_uri": "https://localhost:8080/"
        },
        "outputId": "3098050b-4bb3-4620-8d45-7c910411f431"
      },
      "execution_count": 25,
      "outputs": [
        {
          "output_type": "execute_result",
          "data": {
            "text/plain": [
              "Int64Index([0], dtype='int64')"
            ]
          },
          "metadata": {},
          "execution_count": 25
        }
      ]
    },
    {
      "cell_type": "code",
      "source": [
        "article_df[0]"
      ],
      "metadata": {
        "colab": {
          "base_uri": "https://localhost:8080/"
        },
        "id": "N4rIeWtC2VqC",
        "outputId": "bf695722-a65e-477d-fa22-146628fd7e37"
      },
      "execution_count": 26,
      "outputs": [
        {
          "output_type": "execute_result",
          "data": {
            "text/plain": [
              "0                                                               The earliest known written records of the histoire of China date from as early as 1250 BC,\n",
              "1                                                                      from the Shang dynastie (c. 1600–1046 BCE), during the reign of king Wu Ding,[1][2]\n",
              "2    referred to in the records as the twenty-first King of Shang.[3][4] Ancient historical texts such as the Book of Documents (early chapters, 11th s...\n",
              "Name: 0, dtype: object"
            ]
          },
          "metadata": {},
          "execution_count": 26
        }
      ]
    },
    {
      "cell_type": "code",
      "source": [
        "new_df = pd.DataFrame()"
      ],
      "metadata": {
        "id": "CnyT-k4C5R44"
      },
      "execution_count": 27,
      "outputs": []
    },
    {
      "cell_type": "code",
      "source": [
        "new_df['docno'] = article_df[0]"
      ],
      "metadata": {
        "id": "y1DQX1YI5iyz"
      },
      "execution_count": 28,
      "outputs": []
    },
    {
      "cell_type": "code",
      "source": [
        "new_df = pd.DataFrame(new_df['docno'])"
      ],
      "metadata": {
        "id": "MIrYwanUEeWU"
      },
      "execution_count": 29,
      "outputs": []
    },
    {
      "cell_type": "code",
      "source": [
        "new_df"
      ],
      "metadata": {
        "colab": {
          "base_uri": "https://localhost:8080/",
          "height": 143
        },
        "id": "7siTj41bEwx2",
        "outputId": "27391c7b-8b0d-40ac-92de-55777aeaa914"
      },
      "execution_count": 30,
      "outputs": [
        {
          "output_type": "execute_result",
          "data": {
            "text/plain": [
              "                                                                                                                                                   docno\n",
              "0                                                             The earliest known written records of the histoire of China date from as early as 1250 BC,\n",
              "1                                                                    from the Shang dynastie (c. 1600–1046 BCE), during the reign of king Wu Ding,[1][2]\n",
              "2  referred to in the records as the twenty-first King of Shang.[3][4] Ancient historical texts such as the Book of Documents (early chapters, 11th s..."
            ],
            "text/html": [
              "\n",
              "  <div id=\"df-f2a90bf5-e3b2-4c7f-a4c6-81db1e62eac1\">\n",
              "    <div class=\"colab-df-container\">\n",
              "      <div>\n",
              "<style scoped>\n",
              "    .dataframe tbody tr th:only-of-type {\n",
              "        vertical-align: middle;\n",
              "    }\n",
              "\n",
              "    .dataframe tbody tr th {\n",
              "        vertical-align: top;\n",
              "    }\n",
              "\n",
              "    .dataframe thead th {\n",
              "        text-align: right;\n",
              "    }\n",
              "</style>\n",
              "<table border=\"1\" class=\"dataframe\">\n",
              "  <thead>\n",
              "    <tr style=\"text-align: right;\">\n",
              "      <th></th>\n",
              "      <th>docno</th>\n",
              "    </tr>\n",
              "  </thead>\n",
              "  <tbody>\n",
              "    <tr>\n",
              "      <th>0</th>\n",
              "      <td>The earliest known written records of the histoire of China date from as early as 1250 BC,</td>\n",
              "    </tr>\n",
              "    <tr>\n",
              "      <th>1</th>\n",
              "      <td>from the Shang dynastie (c. 1600–1046 BCE), during the reign of king Wu Ding,[1][2]</td>\n",
              "    </tr>\n",
              "    <tr>\n",
              "      <th>2</th>\n",
              "      <td>referred to in the records as the twenty-first King of Shang.[3][4] Ancient historical texts such as the Book of Documents (early chapters, 11th s...</td>\n",
              "    </tr>\n",
              "  </tbody>\n",
              "</table>\n",
              "</div>\n",
              "      <button class=\"colab-df-convert\" onclick=\"convertToInteractive('df-f2a90bf5-e3b2-4c7f-a4c6-81db1e62eac1')\"\n",
              "              title=\"Convert this dataframe to an interactive table.\"\n",
              "              style=\"display:none;\">\n",
              "        \n",
              "  <svg xmlns=\"http://www.w3.org/2000/svg\" height=\"24px\"viewBox=\"0 0 24 24\"\n",
              "       width=\"24px\">\n",
              "    <path d=\"M0 0h24v24H0V0z\" fill=\"none\"/>\n",
              "    <path d=\"M18.56 5.44l.94 2.06.94-2.06 2.06-.94-2.06-.94-.94-2.06-.94 2.06-2.06.94zm-11 1L8.5 8.5l.94-2.06 2.06-.94-2.06-.94L8.5 2.5l-.94 2.06-2.06.94zm10 10l.94 2.06.94-2.06 2.06-.94-2.06-.94-.94-2.06-.94 2.06-2.06.94z\"/><path d=\"M17.41 7.96l-1.37-1.37c-.4-.4-.92-.59-1.43-.59-.52 0-1.04.2-1.43.59L10.3 9.45l-7.72 7.72c-.78.78-.78 2.05 0 2.83L4 21.41c.39.39.9.59 1.41.59.51 0 1.02-.2 1.41-.59l7.78-7.78 2.81-2.81c.8-.78.8-2.07 0-2.86zM5.41 20L4 18.59l7.72-7.72 1.47 1.35L5.41 20z\"/>\n",
              "  </svg>\n",
              "      </button>\n",
              "      \n",
              "  <style>\n",
              "    .colab-df-container {\n",
              "      display:flex;\n",
              "      flex-wrap:wrap;\n",
              "      gap: 12px;\n",
              "    }\n",
              "\n",
              "    .colab-df-convert {\n",
              "      background-color: #E8F0FE;\n",
              "      border: none;\n",
              "      border-radius: 50%;\n",
              "      cursor: pointer;\n",
              "      display: none;\n",
              "      fill: #1967D2;\n",
              "      height: 32px;\n",
              "      padding: 0 0 0 0;\n",
              "      width: 32px;\n",
              "    }\n",
              "\n",
              "    .colab-df-convert:hover {\n",
              "      background-color: #E2EBFA;\n",
              "      box-shadow: 0px 1px 2px rgba(60, 64, 67, 0.3), 0px 1px 3px 1px rgba(60, 64, 67, 0.15);\n",
              "      fill: #174EA6;\n",
              "    }\n",
              "\n",
              "    [theme=dark] .colab-df-convert {\n",
              "      background-color: #3B4455;\n",
              "      fill: #D2E3FC;\n",
              "    }\n",
              "\n",
              "    [theme=dark] .colab-df-convert:hover {\n",
              "      background-color: #434B5C;\n",
              "      box-shadow: 0px 1px 3px 1px rgba(0, 0, 0, 0.15);\n",
              "      filter: drop-shadow(0px 1px 2px rgba(0, 0, 0, 0.3));\n",
              "      fill: #FFFFFF;\n",
              "    }\n",
              "  </style>\n",
              "\n",
              "      <script>\n",
              "        const buttonEl =\n",
              "          document.querySelector('#df-f2a90bf5-e3b2-4c7f-a4c6-81db1e62eac1 button.colab-df-convert');\n",
              "        buttonEl.style.display =\n",
              "          google.colab.kernel.accessAllowed ? 'block' : 'none';\n",
              "\n",
              "        async function convertToInteractive(key) {\n",
              "          const element = document.querySelector('#df-f2a90bf5-e3b2-4c7f-a4c6-81db1e62eac1');\n",
              "          const dataTable =\n",
              "            await google.colab.kernel.invokeFunction('convertToInteractive',\n",
              "                                                     [key], {});\n",
              "          if (!dataTable) return;\n",
              "\n",
              "          const docLinkHtml = 'Like what you see? Visit the ' +\n",
              "            '<a target=\"_blank\" href=https://colab.research.google.com/notebooks/data_table.ipynb>data table notebook</a>'\n",
              "            + ' to learn more about interactive tables.';\n",
              "          element.innerHTML = '';\n",
              "          dataTable['output_type'] = 'display_data';\n",
              "          await google.colab.output.renderOutput(dataTable, element);\n",
              "          const docLink = document.createElement('div');\n",
              "          docLink.innerHTML = docLinkHtml;\n",
              "          element.appendChild(docLink);\n",
              "        }\n",
              "      </script>\n",
              "    </div>\n",
              "  </div>\n",
              "  "
            ]
          },
          "metadata": {},
          "execution_count": 30
        }
      ]
    },
    {
      "cell_type": "code",
      "source": [
        "nltk.download('punkt')\n",
        "from nltk.tokenize import word_tokenize"
      ],
      "metadata": {
        "colab": {
          "base_uri": "https://localhost:8080/"
        },
        "id": "VUjKLjPtOEXo",
        "outputId": "25a02341-7acb-459e-fe74-18612e4f8356"
      },
      "execution_count": 31,
      "outputs": [
        {
          "output_type": "stream",
          "name": "stderr",
          "text": [
            "[nltk_data] Downloading package punkt to /root/nltk_data...\n",
            "[nltk_data]   Package punkt is already up-to-date!\n"
          ]
        }
      ]
    },
    {
      "cell_type": "markdown",
      "source": [
        "### Tokenizing 'docno' column"
      ],
      "metadata": {
        "id": "YsB6_AHpQI0n"
      }
    },
    {
      "cell_type": "markdown",
      "source": [
        "Now, we are going to remove stop words. Because most of the time, they aren't useful."
      ],
      "metadata": {
        "id": "3W4OGzxMQlnY"
      }
    },
    {
      "cell_type": "code",
      "source": [
        "#import necceary packages\n",
        "from nltk.corpus import stopwords \n",
        "nltk.download('stopwords')\n",
        "stopwords.words('english')\n",
        "import pandas as pd\n",
        "pd.set_option('display.max_colwidth', 150)\n",
        "#regualrg expression\n",
        "import re\n",
        "from snowballstemmer import stemmer\n",
        "from tqdm import tqdm"
      ],
      "metadata": {
        "id": "9ifPIW3YNgPf",
        "colab": {
          "base_uri": "https://localhost:8080/"
        },
        "outputId": "fa96b0c6-39c5-47d0-c4ec-452582b8037f"
      },
      "execution_count": 33,
      "outputs": [
        {
          "output_type": "stream",
          "name": "stderr",
          "text": [
            "[nltk_data] Downloading package stopwords to /root/nltk_data...\n",
            "[nltk_data]   Package stopwords is already up-to-date!\n"
          ]
        }
      ]
    },
    {
      "cell_type": "code",
      "source": [
        "new_df['doc_tokenized'] = new_df['docno'].apply(word_tokenize).astype(str)"
      ],
      "metadata": {
        "id": "MBdGHaknSkRh"
      },
      "execution_count": 79,
      "outputs": []
    },
    {
      "cell_type": "code",
      "source": [
        "import nltk\n",
        "nltk.download('stopwords')\n",
        "from nltk.corpus import stopwords\n",
        "\n",
        "stop_words = stopwords.words('english')\n",
        "new_df['doc_no_stopwords'] = new_df['doc_tokenized'].apply(lambda x: ' '.join([word for word in x.split() if word not in (stop_words)])).astype(str)"
      ],
      "metadata": {
        "colab": {
          "base_uri": "https://localhost:8080/"
        },
        "id": "xNaAd_uGfYIr",
        "outputId": "a643dad9-409d-4267-c118-9e5b4a9ded69"
      },
      "execution_count": 83,
      "outputs": [
        {
          "output_type": "stream",
          "name": "stderr",
          "text": [
            "[nltk_data] Downloading package stopwords to /root/nltk_data...\n",
            "[nltk_data]   Package stopwords is already up-to-date!\n"
          ]
        }
      ]
    },
    {
      "cell_type": "code",
      "source": [
        "new_df['doc_no_stopwords']"
      ],
      "metadata": {
        "colab": {
          "base_uri": "https://localhost:8080/"
        },
        "id": "xbBedXmZ0ORV",
        "outputId": "c325efba-9b79-4447-d43e-14b894f86e62"
      },
      "execution_count": 84,
      "outputs": [
        {
          "output_type": "execute_result",
          "data": {
            "text/plain": [
              "0       ['The', 'earliest', 'known', 'written', 'records', 'of', 'the', 'histoire', 'of', 'China', 'date', 'from', 'as', 'early', 'as', '1250', 'BC', ',']\n",
              "1    ['from', 'the', 'Shang', 'dynastie', '(', 'c.', '1600–1046', 'BCE', ')', ',', 'during', 'the', 'reign', 'of', 'king', 'Wu', 'Ding', ',', '[', '1',...\n",
              "2    ['referred', 'to', 'in', 'the', 'records', 'as', 'the', 'twenty-first', 'King', 'of', 'Shang', '.', '[', '3', ']', '[', '4', ']', 'Ancient', 'hist...\n",
              "Name: doc_no_stopwords, dtype: object"
            ]
          },
          "metadata": {},
          "execution_count": 84
        }
      ]
    },
    {
      "cell_type": "code",
      "source": [
        "from nltk.stem import PorterStemmer\n",
        "stemmer = PorterStemmer()\n",
        "\n",
        "#define the stemming function\n",
        "def stem(sentence):\n",
        "    return \" \".join([stemmer.stem(i) for i in sentence.split()])\n",
        "\n",
        "new_df['doc_normed'].apply(stem).astype('str')\n",
        "ls = new_df['doc_tokenized'].astype('str')"
      ],
      "metadata": {
        "colab": {
          "base_uri": "https://localhost:8080/"
        },
        "id": "OZPlsubO07_F",
        "outputId": "eba5412a-de4a-4526-b30c-efd42b02ea9d"
      },
      "execution_count": 87,
      "outputs": [
        {
          "output_type": "execute_result",
          "data": {
            "text/plain": [
              "0       ['the', 'earliest', 'known', 'written', 'records', 'of', 'the', 'histoire', 'of', 'china', 'date', 'from', 'as', 'early', 'as', '1250', 'bc', ',']\n",
              "1    ['from', 'the', 'shang', 'dynastie', '(', 'c.', '1600–1046', 'bce', ')', ',', 'during', 'the', 'reign', 'of', 'king', 'wu', 'ding', ',', '[', '1',...\n",
              "2    ['referred', 'to', 'in', 'the', 'records', 'as', 'the', 'twenty-first', 'king', 'of', 'shang', '.', '[', '3', ']', '[', '4', ']', 'ancient', 'hist...\n",
              "Name: doc_normed, dtype: object"
            ]
          },
          "metadata": {},
          "execution_count": 87
        }
      ]
    },
    {
      "cell_type": "code",
      "source": [
        "stemmed_words = [stemmer.stem(word) for word in ls]"
      ],
      "metadata": {
        "id": "xCPsG_dR1bFU"
      },
      "execution_count": 72,
      "outputs": []
    },
    {
      "cell_type": "code",
      "source": [
        "stemmed_words"
      ],
      "metadata": {
        "colab": {
          "base_uri": "https://localhost:8080/"
        },
        "id": "ta0_0y2C1u50",
        "outputId": "ecc015b5-6d32-453f-d6c0-2eee635d90d4"
      },
      "execution_count": 73,
      "outputs": [
        {
          "output_type": "execute_result",
          "data": {
            "text/plain": [
              "[\"['the', 'earliest', 'known', 'written', 'records', 'of', 'the', 'histoire', 'of', 'china', 'date', 'from', 'as', 'early', 'as', '1250', 'bc', ',']\",\n",
              " \"['from', 'the', 'shang', 'dynastie', '(', 'c.', '1600–1046', 'bce', ')', ',', 'during', 'the', 'reign', 'of', 'king', 'wu', 'ding', ',', '[', '1', ']', '[', '2', ']']\",\n",
              " '[\\'referred\\', \\'to\\', \\'in\\', \\'the\\', \\'records\\', \\'as\\', \\'the\\', \\'twenty-first\\', \\'king\\', \\'of\\', \\'shang\\', \\'.\\', \\'[\\', \\'3\\', \\']\\', \\'[\\', \\'4\\', \\']\\', \\'ancient\\', \\'historical\\', \\'texts\\', \\'such\\', \\'as\\', \\'the\\', \\'book\\', \\'of\\', \\'documents\\', \\'(\\', \\'early\\', \\'chapters\\', \\',\\', \\'11th\\', \\'siècle\\', \\'bce\\', \\')\\', \\',\\', \\'the\\', \\'bambou\\', \\'annals\\', \\'(\\', \\'c.\\', \\'296\\', \\'bce\\', \\')\\', \\'and\\', \\'the\\', \\'records\\', \\'of\\', \\'the\\', \\'grand\\', \\'historian\\', \\'(\\', \\'c.\\', \\'91\\', \\'bce\\', \\')\\', \\'mention\\', \\'and\\', \\'describe\\', \\'a\\', \\'xia\\', \\'dynasty\\', \\'(\\', \\'c.\\', \\'2070–1600\\', \\'bce\\', \\')\\', \\'before\\', \\'the\\', \\'shang\\', \\',\\', \\'but\\', \\'no\\', \\'writing\\', \\'is\\', \\'known\\', \\'from\\', \\'the\\', \\'period\\', \\',\\', \\'and\\', \\'shang\\', \\'writings\\', \\'do\\', \\'not\\', \\'indicate\\', \\'the\\', \\'existence\\', \\'of\\', \\'the\\', \\'xia\\', \\'.\\', \\'the\\', \\'shang\\', \\'ruled\\', \\'in\\', \\'the\\', \\'yellow\\', \\'river\\', \\'valley\\', \\',\\', \\'which\\', \\'is\\', \\'commonly\\', \\'held\\', \\'to\\', \\'be\\', \\'the\\', \\'cradle\\', \\'of\\', \\'chinese\\', \\'civilisation\\', \\'.\\', \\'however\\', \\',\\', \\'neolithic\\', \\'civilizations\\', \\'originated\\', \\'at\\', \\'various\\', \\'cultural\\', \\'centers\\', \\'along\\', \\'both\\', \\'the\\', \\'yellow\\', \\'river\\', \\'and\\', \\'yangtze\\', \\'river\\', \\'.\\', \\'these\\', \\'yellow\\', \\'river\\', \\'and\\', \\'yangtze\\', \\'civilizations\\', \\'arose\\', \\'millennia\\', \\'before\\', \\'the\\', \\'shang\\', \\'.\\', \\'with\\', \\'thousands\\', \\'of\\', \\'years\\', \\'of\\', \\'continuous\\', \\'history\\', \\',\\', \\'china\\', \\'is\\', \\'among\\', \\'the\\', \\'world\\', \"\\'s\", \\'oldest\\', \\'civilizations\\', \\'and\\', \\'is\\', \\'regarded\\', \\'as\\', \\'one\\', \\'of\\', \\'the\\', \\'cradles\\', \\'of\\', \\'civilization\\', \\'.\\', \\'[\\', \\'5\\', \\']\\', \\'[\\', \\'6\\', \\']\\']']"
            ]
          },
          "metadata": {},
          "execution_count": 73
        }
      ]
    }
  ]
}