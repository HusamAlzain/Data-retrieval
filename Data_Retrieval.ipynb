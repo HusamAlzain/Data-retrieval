{
  "nbformat": 4,
  "nbformat_minor": 0,
  "metadata": {
    "colab": {
      "provenance": [],
      "authorship_tag": "ABX9TyP0S69AyIvg8r4Vz0AAyJdO",
      "include_colab_link": true
    },
    "kernelspec": {
      "name": "python3",
      "display_name": "Python 3"
    },
    "language_info": {
      "name": "python"
    }
  },
  "cells": [
    {
      "cell_type": "markdown",
      "metadata": {
        "id": "view-in-github",
        "colab_type": "text"
      },
      "source": [
        "<a href=\"https://colab.research.google.com/github/HusamAlzain/Data-retrieval/blob/main/Data_Retrieval.ipynb\" target=\"_parent\"><img src=\"https://colab.research.google.com/assets/colab-badge.svg\" alt=\"Open In Colab\"/></a>"
      ]
    },
    {
      "cell_type": "code",
      "execution_count": 2,
      "metadata": {
        "colab": {
          "base_uri": "https://localhost:8080/"
        },
        "id": "q-l5AlbA53GS",
        "outputId": "505b27c1-917a-4cfd-ab10-2be8156d8d00"
      },
      "outputs": [
        {
          "output_type": "stream",
          "name": "stdout",
          "text": [
            "Looking in indexes: https://pypi.org/simple, https://us-python.pkg.dev/colab-wheels/public/simple/\n",
            "Collecting selenium\n",
            "  Downloading selenium-4.7.2-py3-none-any.whl (6.3 MB)\n",
            "\u001b[K     |████████████████████████████████| 6.3 MB 4.3 MB/s \n",
            "\u001b[?25hRequirement already satisfied: certifi>=2021.10.8 in /usr/local/lib/python3.8/dist-packages (from selenium) (2022.12.7)\n",
            "Collecting trio~=0.17\n",
            "  Downloading trio-0.22.0-py3-none-any.whl (384 kB)\n",
            "\u001b[K     |████████████████████████████████| 384 kB 43.1 MB/s \n",
            "\u001b[?25hCollecting trio-websocket~=0.9\n",
            "  Downloading trio_websocket-0.9.2-py3-none-any.whl (16 kB)\n",
            "Collecting urllib3[socks]~=1.26\n",
            "  Downloading urllib3-1.26.13-py2.py3-none-any.whl (140 kB)\n",
            "\u001b[K     |████████████████████████████████| 140 kB 9.3 MB/s \n",
            "\u001b[?25hRequirement already satisfied: sortedcontainers in /usr/local/lib/python3.8/dist-packages (from trio~=0.17->selenium) (2.4.0)\n",
            "Collecting sniffio\n",
            "  Downloading sniffio-1.3.0-py3-none-any.whl (10 kB)\n",
            "Collecting exceptiongroup>=1.0.0rc9\n",
            "  Downloading exceptiongroup-1.1.0-py3-none-any.whl (14 kB)\n",
            "Collecting outcome\n",
            "  Downloading outcome-1.2.0-py2.py3-none-any.whl (9.7 kB)\n",
            "Collecting async-generator>=1.9\n",
            "  Downloading async_generator-1.10-py3-none-any.whl (18 kB)\n",
            "Requirement already satisfied: attrs>=19.2.0 in /usr/local/lib/python3.8/dist-packages (from trio~=0.17->selenium) (22.1.0)\n",
            "Requirement already satisfied: idna in /usr/local/lib/python3.8/dist-packages (from trio~=0.17->selenium) (2.10)\n",
            "Collecting wsproto>=0.14\n",
            "  Downloading wsproto-1.2.0-py3-none-any.whl (24 kB)\n",
            "Requirement already satisfied: PySocks!=1.5.7,<2.0,>=1.5.6 in /usr/local/lib/python3.8/dist-packages (from urllib3[socks]~=1.26->selenium) (1.7.1)\n",
            "Collecting h11<1,>=0.9.0\n",
            "  Downloading h11-0.14.0-py3-none-any.whl (58 kB)\n",
            "\u001b[K     |████████████████████████████████| 58 kB 6.0 MB/s \n",
            "\u001b[?25hInstalling collected packages: sniffio, outcome, h11, exceptiongroup, async-generator, wsproto, urllib3, trio, trio-websocket, selenium\n",
            "  Attempting uninstall: urllib3\n",
            "    Found existing installation: urllib3 1.24.3\n",
            "    Uninstalling urllib3-1.24.3:\n",
            "      Successfully uninstalled urllib3-1.24.3\n",
            "\u001b[31mERROR: pip's dependency resolver does not currently take into account all the packages that are installed. This behaviour is the source of the following dependency conflicts.\n",
            "requests 2.23.0 requires urllib3!=1.25.0,!=1.25.1,<1.26,>=1.21.1, but you have urllib3 1.26.13 which is incompatible.\u001b[0m\n",
            "Successfully installed async-generator-1.10 exceptiongroup-1.1.0 h11-0.14.0 outcome-1.2.0 selenium-4.7.2 sniffio-1.3.0 trio-0.22.0 trio-websocket-0.9.2 urllib3-1.26.13 wsproto-1.2.0\n"
          ]
        }
      ],
      "source": [
        "pip install selenium"
      ]
    },
    {
      "cell_type": "code",
      "source": [
        "import selenium\n",
        "import os\n",
        "import pandas as pd\n"
      ],
      "metadata": {
        "id": "xeHv_AoB6eDi"
      },
      "execution_count": 3,
      "outputs": []
    },
    {
      "cell_type": "markdown",
      "source": [
        "#lab 1"
      ],
      "metadata": {
        "id": "u_ixsIW38ujZ"
      }
    },
    {
      "cell_type": "code",
      "source": [
        "d0 = \"wlcome to out first lab session\"\n",
        "d1 = \"In this lab, you will learn more about Term Document Incidence Matrix\"\n",
        "d2 = \"We should learn the leatest technologies\"\n",
        "d3 = \"python packages, help us to save time and effort\""
      ],
      "metadata": {
        "id": "sMVvOC4c69Jn"
      },
      "execution_count": 4,
      "outputs": []
    },
    {
      "cell_type": "code",
      "source": [
        "collection = {'doc0': d0,\n",
        "'doc1': d1,\n",
        "'doc2': d2,\n",
        "'doc3': d3}\n"
      ],
      "metadata": {
        "id": "XwTuEHCW_Geh"
      },
      "execution_count": 5,
      "outputs": []
    },
    {
      "cell_type": "code",
      "source": [
        "boolean_operators = {'AND', 'OR', 'NOT'}"
      ],
      "metadata": {
        "id": "DFrYEKw__UHS"
      },
      "execution_count": 6,
      "outputs": []
    },
    {
      "cell_type": "code",
      "source": [
        "d0_tok = d0.split()"
      ],
      "metadata": {
        "id": "1U0bFcPSA8GK"
      },
      "execution_count": 7,
      "outputs": []
    },
    {
      "cell_type": "code",
      "source": [
        "for word in collection:\n",
        "  new_list = []\n",
        "  word.split()\n",
        "  new_list.append(word)\n",
        "new_list"
      ],
      "metadata": {
        "colab": {
          "base_uri": "https://localhost:8080/"
        },
        "id": "FXGgRIIr_Yb_",
        "outputId": "460036fb-d982-44ca-f94a-50f83ee5dfa1"
      },
      "execution_count": 8,
      "outputs": [
        {
          "output_type": "execute_result",
          "data": {
            "text/plain": [
              "['doc3']"
            ]
          },
          "metadata": {},
          "execution_count": 8
        }
      ]
    },
    {
      "cell_type": "code",
      "source": [
        "def get_terms(docs):\n",
        "  terms= []\n",
        "  for doc in docs:\n",
        "    for term in docs[doc].split():\n",
        "        terms.append(term)\n",
        "  return terms\n"
      ],
      "metadata": {
        "id": "E5Ok7VaTA92G"
      },
      "execution_count": 9,
      "outputs": []
    },
    {
      "cell_type": "code",
      "source": [
        "get_terms(collection)"
      ],
      "metadata": {
        "colab": {
          "base_uri": "https://localhost:8080/"
        },
        "id": "ogreDwhOBNLb",
        "outputId": "b8d19129-ec7c-492e-8af1-e2bfc251952e"
      },
      "execution_count": 10,
      "outputs": [
        {
          "output_type": "execute_result",
          "data": {
            "text/plain": [
              "['wlcome',\n",
              " 'to',\n",
              " 'out',\n",
              " 'first',\n",
              " 'lab',\n",
              " 'session',\n",
              " 'In',\n",
              " 'this',\n",
              " 'lab,',\n",
              " 'you',\n",
              " 'will',\n",
              " 'learn',\n",
              " 'more',\n",
              " 'about',\n",
              " 'Term',\n",
              " 'Document',\n",
              " 'Incidence',\n",
              " 'Matrix',\n",
              " 'We',\n",
              " 'should',\n",
              " 'learn',\n",
              " 'the',\n",
              " 'leatest',\n",
              " 'technologies',\n",
              " 'python',\n",
              " 'packages,',\n",
              " 'help',\n",
              " 'us',\n",
              " 'to',\n",
              " 'save',\n",
              " 'time',\n",
              " 'and',\n",
              " 'effort']"
            ]
          },
          "metadata": {},
          "execution_count": 10
        }
      ]
    },
    {
      "cell_type": "code",
      "source": [
        "#list of terms\n",
        "def get_terms (data):\n",
        "  terms=[]\n",
        "  for doc in data:\n",
        "    for term in data[doc].split() :\n",
        "      terms.append(term)\n",
        "  return terms"
      ],
      "metadata": {
        "id": "6Gygq4lMDUvt"
      },
      "execution_count": 11,
      "outputs": []
    },
    {
      "cell_type": "code",
      "source": [
        "get_terms(collection)"
      ],
      "metadata": {
        "colab": {
          "base_uri": "https://localhost:8080/"
        },
        "id": "j5EoCLeoEPtf",
        "outputId": "5cf88d91-0404-460d-a9b5-b49ddcd0330e"
      },
      "execution_count": 12,
      "outputs": [
        {
          "output_type": "execute_result",
          "data": {
            "text/plain": [
              "['wlcome',\n",
              " 'to',\n",
              " 'out',\n",
              " 'first',\n",
              " 'lab',\n",
              " 'session',\n",
              " 'In',\n",
              " 'this',\n",
              " 'lab,',\n",
              " 'you',\n",
              " 'will',\n",
              " 'learn',\n",
              " 'more',\n",
              " 'about',\n",
              " 'Term',\n",
              " 'Document',\n",
              " 'Incidence',\n",
              " 'Matrix',\n",
              " 'We',\n",
              " 'should',\n",
              " 'learn',\n",
              " 'the',\n",
              " 'leatest',\n",
              " 'technologies',\n",
              " 'python',\n",
              " 'packages,',\n",
              " 'help',\n",
              " 'us',\n",
              " 'to',\n",
              " 'save',\n",
              " 'time',\n",
              " 'and',\n",
              " 'effort']"
            ]
          },
          "metadata": {},
          "execution_count": 12
        }
      ]
    },
    {
      "cell_type": "code",
      "source": [
        "def get_unique_terms(terms):\n",
        "  unique_doc = []\n",
        "  for word in terms:\n",
        "    if word not in unique_doc:\n",
        "      unique_doc.append(word)\n",
        "  return unique_doc"
      ],
      "metadata": {
        "id": "Q9mIGq_EETbT"
      },
      "execution_count": 13,
      "outputs": []
    },
    {
      "cell_type": "code",
      "source": [
        "get_unique_terms(collection)"
      ],
      "metadata": {
        "colab": {
          "base_uri": "https://localhost:8080/"
        },
        "id": "wqFZe-4JGGTn",
        "outputId": "f7786e89-9720-4e57-e831-42c2ade067c8"
      },
      "execution_count": 14,
      "outputs": [
        {
          "output_type": "execute_result",
          "data": {
            "text/plain": [
              "['doc0', 'doc1', 'doc2', 'doc3']"
            ]
          },
          "metadata": {},
          "execution_count": 14
        }
      ]
    },
    {
      "cell_type": "code",
      "source": [
        "def get_document_collection_terms(data):\n",
        "  docs_colllection={}\n",
        "  for doc in data:\n",
        "    if doc not in boolean_operators :\n",
        "      docs_colllection[doc]=get_unique_terms(data[doc].split())\n",
        "  return docs_colllection\n"
      ],
      "metadata": {
        "id": "qUyf5Mc3GJ46"
      },
      "execution_count": 15,
      "outputs": []
    },
    {
      "cell_type": "code",
      "source": [
        "def display_dict(dic):\n",
        "  print(\"\\n\")\n",
        "  for i in dic:\n",
        "    print(i , \" : \" ,dic[i])\n",
        "    print(\"\\n\")"
      ],
      "metadata": {
        "id": "AJDsnB7zJDLa"
      },
      "execution_count": 16,
      "outputs": []
    },
    {
      "cell_type": "code",
      "source": [
        "print(\"### documents content ###\")\n",
        "display_dict(collection)"
      ],
      "metadata": {
        "id": "PnEa_0PnJSoV",
        "colab": {
          "base_uri": "https://localhost:8080/"
        },
        "outputId": "57c6305b-c812-45e2-9462-3de3340aadb4"
      },
      "execution_count": 17,
      "outputs": [
        {
          "output_type": "stream",
          "name": "stdout",
          "text": [
            "### documents content ###\n",
            "\n",
            "\n",
            "doc0  :  wlcome to out first lab session\n",
            "\n",
            "\n",
            "doc1  :  In this lab, you will learn more about Term Document Incidence Matrix\n",
            "\n",
            "\n",
            "doc2  :  We should learn the leatest technologies\n",
            "\n",
            "\n",
            "doc3  :  python packages, help us to save time and effort\n",
            "\n",
            "\n"
          ]
        }
      ]
    },
    {
      "cell_type": "code",
      "source": [
        "print (\"\\n### Terms in all docs ###\\n\" , *get_terms(collection) ,sep= \" \\n \")"
      ],
      "metadata": {
        "colab": {
          "base_uri": "https://localhost:8080/"
        },
        "id": "HAH9Q6JtcRjz",
        "outputId": "5ef8810e-4f45-4fc4-9943-760ba9f7dfbe"
      },
      "execution_count": 18,
      "outputs": [
        {
          "output_type": "stream",
          "name": "stdout",
          "text": [
            "\n",
            "### Terms in all docs ###\n",
            " \n",
            " wlcome \n",
            " to \n",
            " out \n",
            " first \n",
            " lab \n",
            " session \n",
            " In \n",
            " this \n",
            " lab, \n",
            " you \n",
            " will \n",
            " learn \n",
            " more \n",
            " about \n",
            " Term \n",
            " Document \n",
            " Incidence \n",
            " Matrix \n",
            " We \n",
            " should \n",
            " learn \n",
            " the \n",
            " leatest \n",
            " technologies \n",
            " python \n",
            " packages, \n",
            " help \n",
            " us \n",
            " to \n",
            " save \n",
            " time \n",
            " and \n",
            " effort\n"
          ]
        }
      ]
    },
    {
      "cell_type": "code",
      "source": [
        "terms=get_terms(collection)\n",
        "print (\"\\n### Unique Terms in 5 DOCs###\\n\", *get_unique_terms(terms) ,sep=\" | \")"
      ],
      "metadata": {
        "colab": {
          "base_uri": "https://localhost:8080/"
        },
        "id": "aUAnvYATcVbK",
        "outputId": "b1f98f64-4f6e-4874-d398-3c06800bafd9"
      },
      "execution_count": 19,
      "outputs": [
        {
          "output_type": "stream",
          "name": "stdout",
          "text": [
            "\n",
            "### Unique Terms in 5 DOCs###\n",
            " | wlcome | to | out | first | lab | session | In | this | lab, | you | will | learn | more | about | Term | Document | Incidence | Matrix | We | should | the | leatest | technologies | python | packages, | help | us | save | time | and | effort\n"
          ]
        }
      ]
    },
    {
      "cell_type": "code",
      "source": [
        "print (\"\\n###Document terms Collection ###\" )\n",
        "display_dict(get_document_collection_terms(collection))"
      ],
      "metadata": {
        "colab": {
          "base_uri": "https://localhost:8080/"
        },
        "id": "JVcpzKLYcXqR",
        "outputId": "a9004c3d-2473-4868-8314-23e0ab6abe1f"
      },
      "execution_count": 34,
      "outputs": [
        {
          "output_type": "stream",
          "name": "stdout",
          "text": [
            "\n",
            "###Document terms Collection ###\n",
            "\n",
            "\n",
            "doc0  :  ['wlcome', 'to', 'out', 'first', 'lab', 'session']\n",
            "\n",
            "\n",
            "doc1  :  ['In', 'this', 'lab,', 'you', 'will', 'learn', 'more', 'about', 'Term', 'Document', 'Incidence', 'Matrix']\n",
            "\n",
            "\n",
            "doc2  :  ['We', 'should', 'learn', 'the', 'leatest', 'technologies']\n",
            "\n",
            "\n",
            "doc3  :  ['python', 'packages,', 'help', 'us', 'to', 'save', 'time', 'and', 'effort']\n",
            "\n",
            "\n"
          ]
        }
      ]
    },
    {
      "cell_type": "code",
      "source": [
        "def term_document_incidence_matrix(collection):\n",
        "## list of terms from the data file collection\n",
        "  terms = get_terms(collection)\n",
        "  #list of unique terms\n",
        "  uique_terms = get_unique_terms(terms)\n",
        "  #Document collection terms\n",
        "  docs_terms=get_document_collection_terms(collection)\n",
        "  #TermDocumentIncidenceMatrix\n",
        "  term_docs_matrix= { }\n",
        "  for term in uique_terms:\n",
        "    vector=[]\n",
        "  for c in docs_terms:\n",
        "    if term in docs_terms[c]:\n",
        "      vector.append(1)\n",
        "    else :\n",
        "      vector.append(0)\n",
        "      term_docs_matrix[term]=vector\n",
        "  return term_docs_matrix"
      ],
      "metadata": {
        "id": "JRtgTInacbvX"
      },
      "execution_count": 21,
      "outputs": []
    },
    {
      "cell_type": "code",
      "source": [
        "#this fucntion takes a term and a terms-document incidence matrix and returns the inc\n",
        "#this function just for explanation and display purposes\n",
        "def term_incidence_vector(term,term_docs_incid_matrix):\n",
        "    try:\n",
        "        return term_docs_incid_matrix[term]\n",
        "    except:\n",
        "      return \"term not found\""
      ],
      "metadata": {
        "id": "Y4ykjvqidQ9g"
      },
      "execution_count": 22,
      "outputs": []
    },
    {
      "cell_type": "code",
      "source": [
        "term_docs_incid_matrix = term_document_incidence_matrix(collection)\n",
        "print(\"Term-Document incidence Matrix\\n\")\n",
        "#formatted Display\n",
        "display_dict(term_docs_incid_matrix)\n"
      ],
      "metadata": {
        "colab": {
          "base_uri": "https://localhost:8080/"
        },
        "id": "N7fpixxYdRZm",
        "outputId": "5203680a-b0d6-4169-89a9-d0a5d51357f2"
      },
      "execution_count": 23,
      "outputs": [
        {
          "output_type": "stream",
          "name": "stdout",
          "text": [
            "Term-Document incidence Matrix\n",
            "\n",
            "\n",
            "\n",
            "effort  :  [0, 0, 0, 1]\n",
            "\n",
            "\n"
          ]
        }
      ]
    },
    {
      "cell_type": "code",
      "source": [
        "print(\"Incidence Vector of 'Matrix' \",term_incidence_vector('Matrix',term_docs_incid_matrix))"
      ],
      "metadata": {
        "colab": {
          "base_uri": "https://localhost:8080/"
        },
        "id": "JhqZu-XKdjPF",
        "outputId": "440ac73f-e711-4d32-a311-7c84e6c6d927"
      },
      "execution_count": 24,
      "outputs": [
        {
          "output_type": "stream",
          "name": "stdout",
          "text": [
            "Incidence Vector of 'Matrix'  term not found\n"
          ]
        }
      ]
    },
    {
      "cell_type": "code",
      "source": [
        "def query_filteration(query,collection):\n",
        "  terms= get_terms(collection)\n",
        "  unique_terms=get_unique_terms(terms)\n",
        "  qterms=[]\n",
        "  splitted_query=query.split()\n",
        "  for qterm in splitted_query:\n",
        "    if qterm in unique_terms or qterm in boolean_operators:\n",
        "      qterms.append(qterm)\n",
        "  return qterms"
      ],
      "metadata": {
        "id": "vImDmOPxdqcg"
      },
      "execution_count": 25,
      "outputs": []
    },
    {
      "cell_type": "code",
      "source": [
        "query = \"learn AND Matrix AND you\"\n",
        "qterms = query_filteration(query,collection)\n",
        "print(qterms)"
      ],
      "metadata": {
        "colab": {
          "base_uri": "https://localhost:8080/"
        },
        "id": "WNMSTI9HeBqL",
        "outputId": "00eb86a4-b2c6-43b0-bab2-ddcb690e9b37"
      },
      "execution_count": 26,
      "outputs": [
        {
          "output_type": "stream",
          "name": "stdout",
          "text": [
            "['learn', 'AND', 'Matrix', 'AND', 'you']\n"
          ]
        }
      ]
    },
    {
      "cell_type": "code",
      "source": [
        "def boolean_operator_processing(bool_operator,prevV,nextV):\n",
        "    if bool_operator == \"AND\":\n",
        "      return [a & b for a, b in zip(prevV, nextV)]\n",
        "    elif bool_operator==\"OR\" :\n",
        "      return [a | b for a, b in zip(prevV, nextV)]\n",
        "    elif bool_operator == \"NOT\":\n",
        "      return [1-a for a in prevV]"
      ],
      "metadata": {
        "id": "4k5cCONGeCEQ"
      },
      "execution_count": 31,
      "outputs": []
    },
    {
      "cell_type": "code",
      "source": [
        "v1=term_incidence_vector('lab',term_docs_incid_matrix)\n",
        "v2=term_incidence_vector('Matrix',term_docs_incid_matrix)\n",
        "v3=[]\n",
        "print('v1',v1)\n",
        "print('v2',v2)"
      ],
      "metadata": {
        "colab": {
          "base_uri": "https://localhost:8080/"
        },
        "id": "rQhZ4Ls4gVHd",
        "outputId": "3c07c05c-1440-4c47-ce50-05a637304d6d"
      },
      "execution_count": 32,
      "outputs": [
        {
          "output_type": "stream",
          "name": "stdout",
          "text": [
            "v1 term not found\n",
            "v2 term not found\n"
          ]
        }
      ]
    },
    {
      "cell_type": "code",
      "source": [
        "print(boolean_operator_processing(\"AND\",v1,v2))"
      ],
      "metadata": {
        "id": "wHMrwV_Sghp6",
        "colab": {
          "base_uri": "https://localhost:8080/",
          "height": 312
        },
        "outputId": "fda3ea19-5b61-4866-b66d-2304def83e8a"
      },
      "execution_count": 29,
      "outputs": [
        {
          "output_type": "error",
          "ename": "TypeError",
          "evalue": "ignored",
          "traceback": [
            "\u001b[0;31m---------------------------------------------------------------------------\u001b[0m",
            "\u001b[0;31mTypeError\u001b[0m                                 Traceback (most recent call last)",
            "\u001b[0;32m<ipython-input-29-25ce11ff8b1c>\u001b[0m in \u001b[0;36m<module>\u001b[0;34m\u001b[0m\n\u001b[0;32m----> 1\u001b[0;31m \u001b[0mprint\u001b[0m\u001b[0;34m(\u001b[0m\u001b[0mboolean_operator_processing\u001b[0m\u001b[0;34m(\u001b[0m\u001b[0;34m\"AND\"\u001b[0m\u001b[0;34m,\u001b[0m\u001b[0mv1\u001b[0m\u001b[0;34m,\u001b[0m\u001b[0mv2\u001b[0m\u001b[0;34m)\u001b[0m\u001b[0;34m)\u001b[0m\u001b[0;34m\u001b[0m\u001b[0;34m\u001b[0m\u001b[0m\n\u001b[0m",
            "\u001b[0;32m<ipython-input-27-8214ab87f9dc>\u001b[0m in \u001b[0;36mboolean_operator_processing\u001b[0;34m(bool_operator, prevV, nextV)\u001b[0m\n\u001b[1;32m      1\u001b[0m \u001b[0;32mdef\u001b[0m \u001b[0mboolean_operator_processing\u001b[0m\u001b[0;34m(\u001b[0m\u001b[0mbool_operator\u001b[0m\u001b[0;34m,\u001b[0m\u001b[0mprevV\u001b[0m\u001b[0;34m,\u001b[0m\u001b[0mnextV\u001b[0m\u001b[0;34m)\u001b[0m\u001b[0;34m:\u001b[0m\u001b[0;34m\u001b[0m\u001b[0;34m\u001b[0m\u001b[0m\n\u001b[1;32m      2\u001b[0m   \u001b[0;32mif\u001b[0m \u001b[0mbool_operator\u001b[0m \u001b[0;34m==\u001b[0m \u001b[0;34m\"AND\"\u001b[0m\u001b[0;34m:\u001b[0m\u001b[0;34m\u001b[0m\u001b[0;34m\u001b[0m\u001b[0m\n\u001b[0;32m----> 3\u001b[0;31m     \u001b[0;32mreturn\u001b[0m \u001b[0;34m[\u001b[0m\u001b[0ma\u001b[0m \u001b[0;34m&\u001b[0m \u001b[0mb\u001b[0m \u001b[0;32mfor\u001b[0m \u001b[0ma\u001b[0m\u001b[0;34m,\u001b[0m \u001b[0mb\u001b[0m \u001b[0;32min\u001b[0m \u001b[0mzip\u001b[0m\u001b[0;34m(\u001b[0m\u001b[0mprevV\u001b[0m\u001b[0;34m,\u001b[0m \u001b[0mnextV\u001b[0m\u001b[0;34m)\u001b[0m\u001b[0;34m]\u001b[0m\u001b[0;34m\u001b[0m\u001b[0;34m\u001b[0m\u001b[0m\n\u001b[0m\u001b[1;32m      4\u001b[0m   \u001b[0;32melif\u001b[0m \u001b[0mbool_operator\u001b[0m\u001b[0;34m==\u001b[0m\u001b[0;34m\"OR\"\u001b[0m \u001b[0;34m:\u001b[0m\u001b[0;34m\u001b[0m\u001b[0;34m\u001b[0m\u001b[0m\n\u001b[1;32m      5\u001b[0m     \u001b[0;32mreturn\u001b[0m \u001b[0;34m[\u001b[0m\u001b[0ma\u001b[0m \u001b[0;34m|\u001b[0m \u001b[0mb\u001b[0m \u001b[0;32mfor\u001b[0m \u001b[0ma\u001b[0m\u001b[0;34m,\u001b[0m \u001b[0mb\u001b[0m \u001b[0;32min\u001b[0m \u001b[0mzip\u001b[0m\u001b[0;34m(\u001b[0m\u001b[0mprevV\u001b[0m\u001b[0;34m,\u001b[0m \u001b[0mnextV\u001b[0m\u001b[0;34m)\u001b[0m\u001b[0;34m]\u001b[0m\u001b[0;34m\u001b[0m\u001b[0;34m\u001b[0m\u001b[0m\n",
            "\u001b[0;32m<ipython-input-27-8214ab87f9dc>\u001b[0m in \u001b[0;36m<listcomp>\u001b[0;34m(.0)\u001b[0m\n\u001b[1;32m      1\u001b[0m \u001b[0;32mdef\u001b[0m \u001b[0mboolean_operator_processing\u001b[0m\u001b[0;34m(\u001b[0m\u001b[0mbool_operator\u001b[0m\u001b[0;34m,\u001b[0m\u001b[0mprevV\u001b[0m\u001b[0;34m,\u001b[0m\u001b[0mnextV\u001b[0m\u001b[0;34m)\u001b[0m\u001b[0;34m:\u001b[0m\u001b[0;34m\u001b[0m\u001b[0;34m\u001b[0m\u001b[0m\n\u001b[1;32m      2\u001b[0m   \u001b[0;32mif\u001b[0m \u001b[0mbool_operator\u001b[0m \u001b[0;34m==\u001b[0m \u001b[0;34m\"AND\"\u001b[0m\u001b[0;34m:\u001b[0m\u001b[0;34m\u001b[0m\u001b[0;34m\u001b[0m\u001b[0m\n\u001b[0;32m----> 3\u001b[0;31m     \u001b[0;32mreturn\u001b[0m \u001b[0;34m[\u001b[0m\u001b[0ma\u001b[0m \u001b[0;34m&\u001b[0m \u001b[0mb\u001b[0m \u001b[0;32mfor\u001b[0m \u001b[0ma\u001b[0m\u001b[0;34m,\u001b[0m \u001b[0mb\u001b[0m \u001b[0;32min\u001b[0m \u001b[0mzip\u001b[0m\u001b[0;34m(\u001b[0m\u001b[0mprevV\u001b[0m\u001b[0;34m,\u001b[0m \u001b[0mnextV\u001b[0m\u001b[0;34m)\u001b[0m\u001b[0;34m]\u001b[0m\u001b[0;34m\u001b[0m\u001b[0;34m\u001b[0m\u001b[0m\n\u001b[0m\u001b[1;32m      4\u001b[0m   \u001b[0;32melif\u001b[0m \u001b[0mbool_operator\u001b[0m\u001b[0;34m==\u001b[0m\u001b[0;34m\"OR\"\u001b[0m \u001b[0;34m:\u001b[0m\u001b[0;34m\u001b[0m\u001b[0;34m\u001b[0m\u001b[0m\n\u001b[1;32m      5\u001b[0m     \u001b[0;32mreturn\u001b[0m \u001b[0;34m[\u001b[0m\u001b[0ma\u001b[0m \u001b[0;34m|\u001b[0m \u001b[0mb\u001b[0m \u001b[0;32mfor\u001b[0m \u001b[0ma\u001b[0m\u001b[0;34m,\u001b[0m \u001b[0mb\u001b[0m \u001b[0;32min\u001b[0m \u001b[0mzip\u001b[0m\u001b[0;34m(\u001b[0m\u001b[0mprevV\u001b[0m\u001b[0;34m,\u001b[0m \u001b[0mnextV\u001b[0m\u001b[0;34m)\u001b[0m\u001b[0;34m]\u001b[0m\u001b[0;34m\u001b[0m\u001b[0;34m\u001b[0m\u001b[0m\n",
            "\u001b[0;31mTypeError\u001b[0m: unsupported operand type(s) for &: 'str' and 'str'"
          ]
        }
      ]
    },
    {
      "cell_type": "code",
      "source": [
        "print(boolean_operator_processing(\"OR\",v1,v2))"
      ],
      "metadata": {
        "id": "Y6lsrPCYhDIy"
      },
      "execution_count": null,
      "outputs": []
    },
    {
      "cell_type": "code",
      "source": [
        "print(boolean_operator_processing(\"NOT\",v1,v3))"
      ],
      "metadata": {
        "id": "L_9GuFQ8hNha"
      },
      "execution_count": null,
      "outputs": []
    },
    {
      "cell_type": "code",
      "source": [
        "def boolean_retrieval(query,collection):\n",
        "#build a terms_documents incidence matrix\n",
        "  term_docs_incid_matrix=term_document_incidence_matrix(collection)\n",
        "  bitwiseop=\"\"\n",
        "  #get the query terms\n",
        "  qterms=query_filteration(query,collection)\n",
        "  result=[]\n",
        "  result_set={}\n",
        "  has_previous_term=False\n",
        "  has_not_operation=False\n",
        "  inc_vec_prev=[]\n",
        "  inc_vec_next=[]\n",
        "  for term in qterms :\n",
        "      if term not in boolean_operators:\n",
        "        if has_not_operation:\n",
        "          if has_previous_term:\n",
        "            inc_vec_next=boolean_operator_processing(\"NOT\",term_docs_incid_matrix)\n",
        "          else :\n",
        "            inc_vec_prev=boolean_operator_processing(\"NOT\",term_docs_incid_matrix)\n",
        "            result=inc_vec_prev\n",
        "          has_not_operation=False\n",
        "        elif has_previous_term:\n",
        "          inc_vec_next=term_docs_incid_matrix[term]\n",
        "        else :\n",
        "          inc_vec_prev=term_docs_incid_matrix[term]\n",
        "          result= inc_vec_prev\n",
        "          has_previous_term=True\n",
        "      elif term ==\"NOT\":\n",
        "        has_not_operation=True\n",
        "      else :\n",
        "        bitwiseop=term\n",
        "      if len(inc_vec_next)!= 0 :\n",
        "        result = boolean_operator_processing(bitwiseop,inc_vec_prev,inc_vec_next)\n",
        "        inc_vec_prev=result\n",
        "        has_previous_term=True\n",
        "        inc_vec_next= []\n",
        "      for i,doc in zip(result,collection):\n",
        "        result_set[doc]=i\n",
        "      return result_set"
      ],
      "metadata": {
        "id": "2FPAR090ighX"
      },
      "execution_count": null,
      "outputs": []
    },
    {
      "cell_type": "code",
      "source": [
        "collection"
      ],
      "metadata": {
        "id": "FlFlRWaVlWxc"
      },
      "execution_count": null,
      "outputs": []
    },
    {
      "cell_type": "code",
      "source": [
        "query1 = \"welcome OR lab OR learn\"\n",
        "print(\"query1 boolean retrieval \",boolean_retrieval(query1,collection))"
      ],
      "metadata": {
        "id": "iKYPXm0ClY5P"
      },
      "execution_count": null,
      "outputs": []
    },
    {
      "cell_type": "code",
      "source": [
        "v1=term_incidence_vector(\"Document\",term_docs_incid_matrix)\n",
        "v1\n"
      ],
      "metadata": {
        "id": "nhklqVPSlbpS"
      },
      "execution_count": null,
      "outputs": []
    },
    {
      "cell_type": "code",
      "source": [
        "v2=term_incidence_vector(\"lab\",term_docs_incid_matrix)\n",
        "v2"
      ],
      "metadata": {
        "id": "FtLjzrfZlqq5"
      },
      "execution_count": null,
      "outputs": []
    },
    {
      "cell_type": "code",
      "source": [
        "v3=term_incidence_vector(\"learn\",term_docs_incid_matrix)\n",
        "v3\n"
      ],
      "metadata": {
        "id": "Hjxg1yjZluk8"
      },
      "execution_count": null,
      "outputs": []
    },
    {
      "cell_type": "code",
      "source": [
        "query2 = \"welcome AND packages AND NOT lab\"\n",
        "print(\"query2 boolean retrieval \",boolean_retrieval(query2,collection))\n"
      ],
      "metadata": {
        "id": "GnfbWGyelxZ1"
      },
      "execution_count": null,
      "outputs": []
    },
    {
      "cell_type": "code",
      "source": [],
      "metadata": {
        "id": "-k96fGq-ly0T"
      },
      "execution_count": null,
      "outputs": []
    },
    {
      "cell_type": "markdown",
      "source": [
        "# new"
      ],
      "metadata": {
        "id": "QVqkU52jbteU"
      }
    },
    {
      "cell_type": "code",
      "execution_count": 35,
      "metadata": {
        "id": "3Vk5FMZN50Op",
        "colab": {
          "base_uri": "https://localhost:8080/"
        },
        "outputId": "76fd7446-fd89-4d00-aa02-9973c9c8f52c"
      },
      "outputs": [
        {
          "output_type": "execute_result",
          "data": {
            "text/plain": [
              "{'doc0': 'Welcom to our first lab session',\n",
              " 'doc1': 'In this lab, you will lean more about Term Document Incidence Matrix',\n",
              " 'doc2': 'You will also learn how to visualize it',\n",
              " 'doc3': 'Hope you enjoy learning it'}"
            ]
          },
          "metadata": {},
          "execution_count": 35
        }
      ],
      "source": [
        "d0 = \"Welcom to our first lab session\"\n",
        "d1 = \"In this lab, you will lean more about Term Document Incidence Matrix\"\n",
        "d2 = \"You will also learn how to visualize it\"\n",
        "d3 = \"Hope you enjoy learning it\"\n",
        "\n",
        "collection = {\"doc0\": d0,\n",
        "\"doc1\": d1,\n",
        "\"doc2\": d2,\n",
        "\"doc3\": d3}\n",
        "collection"
      ]
    },
    {
      "cell_type": "code",
      "execution_count": 36,
      "metadata": {
        "id": "IAsYZ5GadHBU"
      },
      "outputs": [],
      "source": [
        "boolean_operators = {'AND', 'OR', 'NOT'}"
      ]
    },
    {
      "cell_type": "code",
      "execution_count": 37,
      "metadata": {
        "id": "Bd8d5P17dJrQ"
      },
      "outputs": [],
      "source": [
        "def get_terms (data):\n",
        "    terms=[]\n",
        "    for doc in data:\n",
        "        for term in data[doc].split() :\n",
        "            terms.append(term)\n",
        "    return terms"
      ]
    },
    {
      "cell_type": "code",
      "execution_count": 38,
      "metadata": {
        "id": "94awbmP5dNLH"
      },
      "outputs": [],
      "source": [
        "def get_unique_terms(terms):\n",
        "    unique_terms=[]\n",
        "    for d in terms :\n",
        "        if d not in unique_terms:\n",
        "            unique_terms.append(d)\n",
        "    return unique_terms"
      ]
    },
    {
      "cell_type": "code",
      "execution_count": 39,
      "metadata": {
        "id": "L8qEGHbNdij1"
      },
      "outputs": [],
      "source": [
        "def get_document_collection_terms(data):\n",
        "    docs_colllection={}\n",
        "    for doc in data:\n",
        "        if doc not in boolean_operators :\n",
        "            docs_colllection[doc]=get_unique_terms(data[doc].split())\n",
        "    return docs_colllection"
      ]
    },
    {
      "cell_type": "code",
      "execution_count": 40,
      "metadata": {
        "id": "gdpX_sj1d48I"
      },
      "outputs": [],
      "source": [
        "def display_dict(dic):\n",
        "    print(\"\\n\")\n",
        "    for i in dic:\n",
        "        print (i , \" : \" ,dic[i])\n",
        "    print(\"\\n\")\n"
      ]
    },
    {
      "cell_type": "code",
      "execution_count": 41,
      "metadata": {
        "colab": {
          "base_uri": "https://localhost:8080/"
        },
        "id": "3q8CWLJud9rc",
        "outputId": "494d8ccd-9051-4b06-df79-79b6b0b6519a"
      },
      "outputs": [
        {
          "output_type": "stream",
          "name": "stdout",
          "text": [
            "### documents content ###\n",
            "\n",
            "\n",
            "doc0  :  Welcom to our first lab session\n",
            "doc1  :  In this lab, you will lean more about Term Document Incidence Matrix\n",
            "doc2  :  You will also learn how to visualize it\n",
            "doc3  :  Hope you enjoy learning it\n",
            "\n",
            "\n"
          ]
        }
      ],
      "source": [
        "print(\"### documents content ###\")\n",
        "display_dict(collection)"
      ]
    },
    {
      "cell_type": "code",
      "execution_count": 42,
      "metadata": {
        "colab": {
          "base_uri": "https://localhost:8080/"
        },
        "id": "s54xYI36eBrI",
        "outputId": "cbe46ec1-8a9f-40c7-bb43-95215dca7572"
      },
      "outputs": [
        {
          "output_type": "stream",
          "name": "stdout",
          "text": [
            "\n",
            "### Terms in all docs ###\n",
            " \n",
            " Welcom \n",
            " to \n",
            " our \n",
            " first \n",
            " lab \n",
            " session \n",
            " In \n",
            " this \n",
            " lab, \n",
            " you \n",
            " will \n",
            " lean \n",
            " more \n",
            " about \n",
            " Term \n",
            " Document \n",
            " Incidence \n",
            " Matrix \n",
            " You \n",
            " will \n",
            " also \n",
            " learn \n",
            " how \n",
            " to \n",
            " visualize \n",
            " it \n",
            " Hope \n",
            " you \n",
            " enjoy \n",
            " learning \n",
            " it\n"
          ]
        }
      ],
      "source": [
        "print (\"\\n### Terms in all docs ###\\n\" , *get_terms(collection) ,sep= \" \\n \")"
      ]
    },
    {
      "cell_type": "code",
      "execution_count": 43,
      "metadata": {
        "colab": {
          "base_uri": "https://localhost:8080/"
        },
        "id": "c_MwNNq3e982",
        "outputId": "dafe6a57-5354-4368-9d06-67de101d92f2"
      },
      "outputs": [
        {
          "output_type": "stream",
          "name": "stdout",
          "text": [
            "\n",
            "### Unique Terms in 5 DOCs###\n",
            " | Welcom | to | our | first | lab | session | In | this | lab, | you | will | lean | more | about | Term | Document | Incidence | Matrix | You | also | learn | how | visualize | it | Hope | enjoy | learning\n"
          ]
        }
      ],
      "source": [
        "terms=get_terms(collection)\n",
        "print (\"\\n### Unique Terms in 5 DOCs###\\n\", *get_unique_terms(terms) ,sep=\" | \")"
      ]
    },
    {
      "cell_type": "code",
      "execution_count": 44,
      "metadata": {
        "colab": {
          "base_uri": "https://localhost:8080/"
        },
        "id": "R0bWQR_nhPu4",
        "outputId": "a8e1e305-748e-4d1e-9675-4a68a337c26f"
      },
      "outputs": [
        {
          "output_type": "stream",
          "name": "stdout",
          "text": [
            "\n",
            "###Document terms Collection ###\n",
            "\n",
            "\n",
            "doc0  :  ['Welcom', 'to', 'our', 'first', 'lab', 'session']\n",
            "doc1  :  ['In', 'this', 'lab,', 'you', 'will', 'lean', 'more', 'about', 'Term', 'Document', 'Incidence', 'Matrix']\n",
            "doc2  :  ['You', 'will', 'also', 'learn', 'how', 'to', 'visualize', 'it']\n",
            "doc3  :  ['Hope', 'you', 'enjoy', 'learning', 'it']\n",
            "\n",
            "\n"
          ]
        }
      ],
      "source": [
        "print (\"\\n###Document terms Collection ###\" )\n",
        "display_dict(get_document_collection_terms(collection))"
      ]
    },
    {
      "cell_type": "code",
      "execution_count": 45,
      "metadata": {
        "id": "t83We6nXi3tg"
      },
      "outputs": [],
      "source": [
        "def term_document_incidence_matrix(collection):\n",
        "    ## list of terms from the data file collection\n",
        "    terms = get_terms(collection)\n",
        "    #list of unique terms\n",
        "    uique_terms = get_unique_terms(terms)\n",
        "    #Document collection terms\n",
        "    docs_terms=get_document_collection_terms(collection)\n",
        "    #TermDocumentIncidenceMatrix\n",
        "    term_docs_matrix= { }\n",
        "    for term in uique_terms :\n",
        "        vector=[]\n",
        "        for c in docs_terms:\n",
        "            \n",
        "            if term in docs_terms[c]:\n",
        "                vector.append(1)\n",
        "            else :\n",
        "                vector.append(0)\n",
        "                \n",
        "        term_docs_matrix[term]=vector\n",
        "    return term_docs_matrix\n",
        "#this fucntion takes a term and a terms-document incidence matrix and returns the inc\n",
        "#this function just for explanation and display purposes\n",
        "def term_incidence_vector(term,term_docs_incid_matrix):\n",
        "    try:\n",
        "        return term_docs_incid_matrix[term]\n",
        "    except:\n",
        "        return \"term not found\""
      ]
    },
    {
      "cell_type": "code",
      "execution_count": 46,
      "metadata": {
        "colab": {
          "base_uri": "https://localhost:8080/"
        },
        "id": "HUh5YDJIjbIA",
        "outputId": "cb3ddfde-dcef-4e03-a65c-734d10a633b4"
      },
      "outputs": [
        {
          "output_type": "stream",
          "name": "stdout",
          "text": [
            "Term-Document incidence Matrix\n",
            "\n",
            "\n",
            "\n",
            "Welcom  :  [1, 0, 0, 0]\n",
            "to  :  [1, 0, 1, 0]\n",
            "our  :  [1, 0, 0, 0]\n",
            "first  :  [1, 0, 0, 0]\n",
            "lab  :  [1, 0, 0, 0]\n",
            "session  :  [1, 0, 0, 0]\n",
            "In  :  [0, 1, 0, 0]\n",
            "this  :  [0, 1, 0, 0]\n",
            "lab,  :  [0, 1, 0, 0]\n",
            "you  :  [0, 1, 0, 1]\n",
            "will  :  [0, 1, 1, 0]\n",
            "lean  :  [0, 1, 0, 0]\n",
            "more  :  [0, 1, 0, 0]\n",
            "about  :  [0, 1, 0, 0]\n",
            "Term  :  [0, 1, 0, 0]\n",
            "Document  :  [0, 1, 0, 0]\n",
            "Incidence  :  [0, 1, 0, 0]\n",
            "Matrix  :  [0, 1, 0, 0]\n",
            "You  :  [0, 0, 1, 0]\n",
            "also  :  [0, 0, 1, 0]\n",
            "learn  :  [0, 0, 1, 0]\n",
            "how  :  [0, 0, 1, 0]\n",
            "visualize  :  [0, 0, 1, 0]\n",
            "it  :  [0, 0, 1, 1]\n",
            "Hope  :  [0, 0, 0, 1]\n",
            "enjoy  :  [0, 0, 0, 1]\n",
            "learning  :  [0, 0, 0, 1]\n",
            "\n",
            "\n"
          ]
        }
      ],
      "source": [
        "#build the term-document incidence matrix\n",
        "term_docs_incid_matrix=term_document_incidence_matrix(collection)\n",
        "print(\"Term-Document incidence Matrix\\n\")\n",
        "#formatted Display\n",
        "display_dict(term_docs_incid_matrix)"
      ]
    },
    {
      "cell_type": "code",
      "execution_count": 47,
      "metadata": {
        "colab": {
          "base_uri": "https://localhost:8080/"
        },
        "id": "aoodYxPZj_yN",
        "outputId": "d6ccbec0-be5a-4027-e28c-4f6ee2211d04"
      },
      "outputs": [
        {
          "output_type": "stream",
          "name": "stdout",
          "text": [
            "Incidence Vector of 'Matrix'  [0, 1, 0, 0]\n"
          ]
        }
      ],
      "source": [
        "print(\"Incidence Vector of 'Matrix' \",term_incidence_vector('Matrix',term_docs_incid_matrix))"
      ]
    },
    {
      "cell_type": "code",
      "execution_count": 48,
      "metadata": {
        "id": "MkA-LvN1kRiL"
      },
      "outputs": [],
      "source": [
        "#Buidling a Boolean retrieval model\n"
      ]
    },
    {
      "cell_type": "code",
      "execution_count": 49,
      "metadata": {
        "id": "A5qWle8OwHX6"
      },
      "outputs": [],
      "source": [
        "def query_filteration(query,collection):\n",
        "    terms= get_terms(collection)\n",
        "    unique_terms=get_unique_terms(terms)\n",
        "    qterms=[]\n",
        "    splitted_query=query.split()\n",
        "    for qterm in splitted_query:\n",
        "        if qterm in unique_terms or qterm in boolean_operators:\n",
        "          qterms.append(qterm)\n",
        "    return qterms"
      ]
    },
    {
      "cell_type": "code",
      "execution_count": 50,
      "metadata": {
        "colab": {
          "base_uri": "https://localhost:8080/"
        },
        "id": "aMgDkiaxwLzo",
        "outputId": "fd9ec969-96ed-4538-feb7-6b8ff609af59"
      },
      "outputs": [
        {
          "output_type": "stream",
          "name": "stdout",
          "text": [
            "['learn', 'AND', 'Matrix', 'AND', 'you']\n"
          ]
        }
      ],
      "source": [
        "query=\"learn AND Matrix AND you\"\n",
        "qterms = query_filteration(query,collection)\n",
        "print(qterms)"
      ]
    },
    {
      "cell_type": "code",
      "execution_count": 51,
      "metadata": {
        "colab": {
          "base_uri": "https://localhost:8080/"
        },
        "id": "PPKIBKO8wOyr",
        "outputId": "9a185af1-c6f8-48d0-e263-ac577c3b0e73"
      },
      "outputs": [
        {
          "output_type": "stream",
          "name": "stdout",
          "text": [
            "['learn', 'Matrix', 'AND']\n"
          ]
        }
      ],
      "source": [
        "query=\"learn and Matrix AND Taibah\"\n",
        "qterms=query_filteration(query,collection)\n",
        "print(qterms)"
      ]
    },
    {
      "cell_type": "code",
      "execution_count": 52,
      "metadata": {
        "id": "sq1k9QDdwVQZ"
      },
      "outputs": [],
      "source": [
        "def boolean_operator_processing(bool_operator,prevV,nextV):\n",
        "    if bool_operator == \"AND\":\n",
        "      return [a & b for a, b in zip(prevV, nextV)]\n",
        "    elif bool_operator==\"OR\" :\n",
        "      return [a | b for a, b in zip(prevV, nextV)]\n",
        "    elif bool_operator == \"NOT\":\n",
        "      return [1-a for a in prevV]"
      ]
    },
    {
      "cell_type": "code",
      "execution_count": 53,
      "metadata": {
        "colab": {
          "base_uri": "https://localhost:8080/"
        },
        "id": "9eq4Fb_CwY_1",
        "outputId": "55fb6447-2b0c-47f7-b1ee-ccc4ae5412d5"
      },
      "outputs": [
        {
          "output_type": "stream",
          "name": "stdout",
          "text": [
            "v1 [0, 0, 1, 0]\n",
            "v2 [0, 1, 0, 0]\n"
          ]
        }
      ],
      "source": [
        "v1=term_incidence_vector('learn',term_docs_incid_matrix)\n",
        "v2=term_incidence_vector('Matrix',term_docs_incid_matrix)\n",
        "v3=[]\n",
        "print('v1',v1)\n",
        "print('v2',v2)"
      ]
    },
    {
      "cell_type": "code",
      "execution_count": 54,
      "metadata": {
        "colab": {
          "base_uri": "https://localhost:8080/"
        },
        "id": "Gh1yL603wbsI",
        "outputId": "fb1d5984-c055-4360-e54f-c92886594aed"
      },
      "outputs": [
        {
          "output_type": "stream",
          "name": "stdout",
          "text": [
            "[0, 0, 0, 0]\n"
          ]
        }
      ],
      "source": [
        "print(boolean_operator_processing(\"AND\",v1,v2))"
      ]
    },
    {
      "cell_type": "code",
      "execution_count": 55,
      "metadata": {
        "colab": {
          "base_uri": "https://localhost:8080/"
        },
        "id": "e48D4SMvweX5",
        "outputId": "f6356b5e-abaf-4ae5-be06-9ef36dbd41d8"
      },
      "outputs": [
        {
          "output_type": "stream",
          "name": "stdout",
          "text": [
            "[0, 1, 1, 0]\n"
          ]
        }
      ],
      "source": [
        "print(boolean_operator_processing(\"OR\",v1,v2))"
      ]
    },
    {
      "cell_type": "code",
      "execution_count": 56,
      "metadata": {
        "colab": {
          "base_uri": "https://localhost:8080/"
        },
        "id": "DfHIc3-OwiBn",
        "outputId": "57c29e45-fe9b-43b3-8fb2-8438aea51ebe"
      },
      "outputs": [
        {
          "output_type": "stream",
          "name": "stdout",
          "text": [
            "[1, 1, 0, 1]\n"
          ]
        }
      ],
      "source": [
        "print(boolean_operator_processing(\"NOT\",v1,v3))"
      ]
    },
    {
      "cell_type": "code",
      "execution_count": 57,
      "metadata": {
        "id": "hbF4Cdj0wkPD"
      },
      "outputs": [],
      "source": [
        "def boolean_retrieval(query,collection):\n",
        "    #build a terms_documents incidence matrix\n",
        "    term_docs_incid_matrix=term_document_incidence_matrix(collection)\n",
        "    bitwiseop=\"\"\n",
        "    #get the query terms\n",
        "    qterms=query_filteration(query,collection)\n",
        "    result=[]\n",
        "    result_set={}\n",
        "    has_previous_term=False\n",
        "    has_not_operation=False\n",
        "    inc_vec_prev=[]\n",
        "    inc_vec_next=[]\n",
        "    for term in qterms :\n",
        "        if term not in boolean_operators:\n",
        "            if  has_not_operation:\n",
        "                if has_previous_term:\n",
        "                    inc_vec_next=boolean_operator_processing(\"NOT\",term_docs_incid_matrix)\n",
        "                else :\n",
        "                    inc_vec_prev=boolean_operator_processing(\"NOT\",term_docs_incid_matrix)\n",
        "                    result=inc_vec_prev\n",
        "                has_not_operation=False\n",
        "                                                            \n",
        "            elif  has_previous_term:\n",
        "                                                            \n",
        "                inc_vec_next=term_docs_incid_matrix[term]\n",
        "            else :\n",
        "                                                            \n",
        "                inc_vec_prev=term_docs_incid_matrix[term]\n",
        "                result= inc_vec_prev\n",
        "                has_previous_term=True\n",
        "                                                            \n",
        "        elif term ==\"NOT\":\n",
        "            has_not_operation=True\n",
        "                                                            \n",
        "        else :\n",
        "            bitwiseop=term\n",
        "                                                            \n",
        "        if  len(inc_vec_next)!= 0 :\n",
        "            result = boolean_operator_processing(bitwiseop,inc_vec_prev,inc_vec_next)\n",
        "            inc_vec_prev=result\n",
        "            has_previous_term=True\n",
        "            inc_vec_next= []\n",
        "                                                            \n",
        "    for i,doc in zip(result,collection):\n",
        "        result_set[doc]=i\n",
        "    return result_set     "
      ]
    },
    {
      "cell_type": "code",
      "execution_count": 58,
      "metadata": {
        "colab": {
          "base_uri": "https://localhost:8080/"
        },
        "id": "VNmFVukhwpf1",
        "outputId": "6e03c11a-744b-403f-8f37-a25d32d7e3c7"
      },
      "outputs": [
        {
          "output_type": "execute_result",
          "data": {
            "text/plain": [
              "{'doc0': 'Welcom to our first lab session',\n",
              " 'doc1': 'In this lab, you will lean more about Term Document Incidence Matrix',\n",
              " 'doc2': 'You will also learn how to visualize it',\n",
              " 'doc3': 'Hope you enjoy learning it'}"
            ]
          },
          "metadata": {},
          "execution_count": 58
        }
      ],
      "source": [
        "collection"
      ]
    },
    {
      "cell_type": "code",
      "execution_count": 59,
      "metadata": {
        "colab": {
          "base_uri": "https://localhost:8080/"
        },
        "id": "GXAmiX-iw0J5",
        "outputId": "232b2af7-0c22-4379-89e7-070745d6c42f"
      },
      "outputs": [
        {
          "output_type": "stream",
          "name": "stdout",
          "text": [
            "query1 boolean retrieval  {'doc0': 1, 'doc1': 1, 'doc2': 1, 'doc3': 0}\n"
          ]
        }
      ],
      "source": [
        "query1 = \" Document OR lab OR learn\"\n",
        "print(\"query1 boolean retrieval \",boolean_retrieval(query1,collection))"
      ]
    },
    {
      "cell_type": "code",
      "execution_count": 60,
      "metadata": {
        "colab": {
          "base_uri": "https://localhost:8080/"
        },
        "id": "boynkED_w3Of",
        "outputId": "5efa687f-3600-4bc7-9b4d-3f074db2a2f0"
      },
      "outputs": [
        {
          "output_type": "execute_result",
          "data": {
            "text/plain": [
              "[0, 1, 0, 0]"
            ]
          },
          "metadata": {},
          "execution_count": 60
        }
      ],
      "source": [
        "v1=term_incidence_vector(\"Document\",term_docs_incid_matrix)\n",
        "v1"
      ]
    },
    {
      "cell_type": "code",
      "execution_count": 61,
      "metadata": {
        "colab": {
          "base_uri": "https://localhost:8080/"
        },
        "id": "So_d5zp4w5wm",
        "outputId": "73eb224f-29d1-4d0b-ac85-88debaacc4a6"
      },
      "outputs": [
        {
          "output_type": "execute_result",
          "data": {
            "text/plain": [
              "[1, 0, 0, 0]"
            ]
          },
          "metadata": {},
          "execution_count": 61
        }
      ],
      "source": [
        "v2=term_incidence_vector(\"lab\",term_docs_incid_matrix)\n",
        "v2"
      ]
    },
    {
      "cell_type": "code",
      "execution_count": 62,
      "metadata": {
        "colab": {
          "base_uri": "https://localhost:8080/"
        },
        "id": "bBAfhyAdw7yp",
        "outputId": "ac9984f6-3202-42fc-cdad-2c6389d2aa8a"
      },
      "outputs": [
        {
          "output_type": "execute_result",
          "data": {
            "text/plain": [
              "[1, 1, 0, 0]"
            ]
          },
          "metadata": {},
          "execution_count": 62
        }
      ],
      "source": [
        "Qpart1=boolean_operator_processing(\"OR\",v1,v2)\n",
        "Qpart1"
      ]
    },
    {
      "cell_type": "code",
      "execution_count": 63,
      "metadata": {
        "colab": {
          "base_uri": "https://localhost:8080/"
        },
        "id": "aZcRqeBIw_Ye",
        "outputId": "5c99ce9d-058a-4e8f-b398-6b0c70b0fa71"
      },
      "outputs": [
        {
          "output_type": "execute_result",
          "data": {
            "text/plain": [
              "[0, 0, 1, 0]"
            ]
          },
          "metadata": {},
          "execution_count": 63
        }
      ],
      "source": [
        "v3=term_incidence_vector(\"learn\",term_docs_incid_matrix)\n",
        "v3"
      ]
    },
    {
      "cell_type": "code",
      "execution_count": 64,
      "metadata": {
        "colab": {
          "base_uri": "https://localhost:8080/"
        },
        "id": "w7cE-iMzxBtU",
        "outputId": "2614d313-15eb-4b99-d859-1258a416d02d"
      },
      "outputs": [
        {
          "output_type": "execute_result",
          "data": {
            "text/plain": [
              "[1, 1, 1, 0]"
            ]
          },
          "metadata": {},
          "execution_count": 64
        }
      ],
      "source": [
        "boolean_operator_processing(\"OR\",Qpart1,v3)"
      ]
    },
    {
      "cell_type": "code",
      "execution_count": 65,
      "metadata": {
        "colab": {
          "base_uri": "https://localhost:8080/"
        },
        "id": "04TuwBp3xDzM",
        "outputId": "6316119a-1538-4736-bad0-e208267e5bce"
      },
      "outputs": [
        {
          "output_type": "execute_result",
          "data": {
            "text/plain": [
              "{'doc0': 'Welcom to our first lab session',\n",
              " 'doc1': 'In this lab, you will lean more about Term Document Incidence Matrix',\n",
              " 'doc2': 'You will also learn how to visualize it',\n",
              " 'doc3': 'Hope you enjoy learning it'}"
            ]
          },
          "metadata": {},
          "execution_count": 65
        }
      ],
      "source": [
        "collection"
      ]
    },
    {
      "cell_type": "markdown",
      "source": [
        "##Exercise1"
      ],
      "metadata": {
        "id": "jDDSR2HTieEl"
      }
    },
    {
      "cell_type": "code",
      "source": [
        "query1 = \"Cloud OR Timestamp OR Audio\"\n",
        "print(\"query1 boolean retrieval \",boolean_retrieval(query1,collection))"
      ],
      "metadata": {
        "colab": {
          "base_uri": "https://localhost:8080/"
        },
        "id": "2mByxZK3ipc3",
        "outputId": "e153316e-af47-4002-ae27-2f65861d9db1"
      },
      "execution_count": 81,
      "outputs": [
        {
          "output_type": "stream",
          "name": "stdout",
          "text": [
            "query1 boolean retrieval  {}\n"
          ]
        }
      ]
    },
    {
      "cell_type": "code",
      "execution_count": 72,
      "metadata": {
        "colab": {
          "base_uri": "https://localhost:8080/"
        },
        "id": "CnPIZCIvXOY2",
        "outputId": "441739c4-2104-4cf3-8d96-20d6af718e08"
      },
      "outputs": [
        {
          "output_type": "stream",
          "name": "stdout",
          "text": [
            "query3 boolean retrieval  {'doc0': 0, 'doc1': 1, 'doc2': 0, 'doc3': 0}\n"
          ]
        }
      ],
      "source": [
        "query3 = \"Matrix AND Lab AND NOT Visualize\"\n",
        "print(\"query3 boolean retrieval \",boolean_retrieval(query3,collection))"
      ]
    },
    {
      "cell_type": "code",
      "execution_count": 70,
      "metadata": {
        "colab": {
          "base_uri": "https://localhost:8080/"
        },
        "id": "2RdiO5EW2fRR",
        "outputId": "c504428b-2368-4114-f666-0481ba1695f9"
      },
      "outputs": [
        {
          "output_type": "stream",
          "name": "stdout",
          "text": [
            "query2 boolean retrieval  {'doc0': 0, 'doc1': 1, 'doc2': 0, 'doc3': 0}\n"
          ]
        }
      ],
      "source": [
        "query2 = \"lean AND Matrix AND NOT Lab\"\n",
        "print(\"query2 boolean retrieval \",boolean_retrieval(query2,collection))"
      ]
    },
    {
      "cell_type": "markdown",
      "source": [
        "##Exercise 2"
      ],
      "metadata": {
        "id": "Ii9rsWRljUUc"
      }
    },
    {
      "cell_type": "code",
      "source": [
        "query3 = \"Cloud AND NOT audio\"\n",
        "print(\"query3 boolean retrieval \",boolean_retrieval(query3,collection))"
      ],
      "metadata": {
        "colab": {
          "base_uri": "https://localhost:8080/"
        },
        "id": "kVCQO8SXdmVn",
        "outputId": "a1217e2e-e806-4408-aebe-b28dcb19fd37"
      },
      "execution_count": 79,
      "outputs": [
        {
          "output_type": "stream",
          "name": "stdout",
          "text": [
            "query3 boolean retrieval  {}\n"
          ]
        }
      ]
    }
  ]
}